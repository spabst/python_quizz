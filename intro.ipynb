{
 "cells": [
  {
   "cell_type": "markdown",
   "metadata": {},
   "source": [
    "\n",
    "### Question 1.1\n",
    "The below 'add_products' function is acting weird. The number of element contained by the portfolio doesn't match what we would expect and the invested time neither.\n",
    "Please fix the code and explain the reason of the strange behaviour."
   ]
  },
  {
   "cell_type": "code",
   "execution_count": null,
   "metadata": {},
   "outputs": [],
   "source": [
    "import time\n",
    "\n",
    "### modify the function to fix the issues you find\n",
    "def add_products(account_name, products, portfolio=[], invested_at=time.time()):\n",
    "    portfolio.extend(products)\n",
    "    time.sleep(3)\n",
    "    print(f\"\"\"---- Added {len(products)} to the {account_name}'s portfolio. ----\n",
    "    The {account_name}'s portfolio contains now {len(portfolio)} different products.\n",
    "    Registering the order took {round(time.time()-invested_at, 3)} seconds\\n\"\"\")\n",
    "\n",
    "    return portfolio\n",
    "    "
   ]
  },
  {
   "cell_type": "code",
   "execution_count": null,
   "metadata": {},
   "outputs": [],
   "source": [
    "from dataclasses import dataclass\n",
    "# Sample data\n",
    "@dataclass\n",
    "class Product:\n",
    "    name: str\n",
    "    amount: int\n",
    "    price: float\n",
    "    category: str\n",
    "    \n",
    "existing_interviewer_portfolio= [\n",
    "    Product('SPY', 2, 5.56, 'ETF'),\n",
    "    Product('VOO', -1, 25.21, 'ETF'),\n",
    "    Product('MSFT', 13, 79.56, 'Equity'),\n",
    "    Product('AAPL', -10, -23.5, 'Equity'),\n",
    "    Product('AMZN', 4, -274.5, 'Equity'),\n",
    "]"
   ]
  },
  {
   "cell_type": "code",
   "execution_count": null,
   "metadata": {},
   "outputs": [],
   "source": [
    "# Portfolio 1\n",
    "pf_1 = add_products(\n",
    "    \"Demo account\",\n",
    "    products=[\n",
    "        Product(\"SPY\", -25, 5.56, \"ETF\"),\n",
    "        Product(\"MSFT\", 13, 3.76, \"Equity\"),\n",
    "        Product(\"FXAIX\", -2, 16.24, \"Fund\"),\n",
    "    ],\n",
    ")\n",
    "\n",
    "# Portfolio 2\n",
    "pf_2 = add_products(\n",
    "    \"Manager account\", products=[Product(\"ZL=F\", 34, -23.5, \"Future\")]\n",
    ")\n",
    "\n",
    "# Portfolio 3\n",
    "pf_3 = add_products(\n",
    "    \"Interviewer account\",\n",
    "    products=[\n",
    "        Product(\"ETH-USD\", 10, 1256.56, \"CCC\"),\n",
    "        Product(\"BTC-USD\", 1, 15_000.56, \"CCC\"),\n",
    "        Product(\"AAPL\", 12, 143.43, \"Equity\"),\n",
    "    ],\n",
    "    portfolio=existing_interviewer_portfolio,\n",
    ")\n",
    "\n",
    "print(\"portfolio 1\", pf_1)\n",
    "print(\"portfolio 2\", pf_2)\n",
    "print(\"portfolio 3\", pf_3)"
   ]
  },
  {
   "cell_type": "markdown",
   "metadata": {},
   "source": [
    "### Question 1.2\n",
    "How would you find the *categories* present in *portfolio 1* that are not present in the *portfolio 3*? Propose a solution:"
   ]
  },
  {
   "cell_type": "code",
   "execution_count": null,
   "metadata": {},
   "outputs": [],
   "source": [
    "### Write your solution here"
   ]
  },
  {
   "cell_type": "markdown",
   "metadata": {},
   "source": [
    "### Question 1.3:\n",
    "we need to know which investments are *short* (have a negative amount) in our *portfolio 1* for the classes **Equity** and **ETF**. How would you achieve that?"
   ]
  },
  {
   "cell_type": "code",
   "execution_count": null,
   "metadata": {},
   "outputs": [],
   "source": [
    "### Write your solution here"
   ]
  },
  {
   "cell_type": "markdown",
   "metadata": {},
   "source": [
    "### Question 1.4: (optional)\n",
    "For a given portfolio, would you be able to provide a solution to count the number of *products* present on each *category*?"
   ]
  },
  {
   "cell_type": "code",
   "execution_count": null,
   "metadata": {},
   "outputs": [],
   "source": [
    "### Write your solution here"
   ]
  },
  {
   "cell_type": "markdown",
   "metadata": {},
   "source": [
    "## Code Review"
   ]
  },
  {
   "cell_type": "markdown",
   "metadata": {},
   "source": [
    "### Question 2.1\n",
    "Look at the code below and express your opinion on its structure. What are your considerations? If you had to refactor it, which actions would you take?"
   ]
  },
  {
   "cell_type": "code",
   "execution_count": null,
   "metadata": {},
   "outputs": [],
   "source": [
    "from dataclasses import dataclass\n",
    "\n",
    "ROLES = ['demo', 'default', 'admin']\n",
    "        \n",
    "@dataclass\n",
    "class User:\n",
    "    name: str\n",
    "    role: str\n",
    "    \n",
    "    def get_records(self):\n",
    "        if self.role=='admin':\n",
    "            print( 'retrieving all the products available in the db')\n",
    "        else:\n",
    "            if self.role=='default':\n",
    "                print(f'retrieving only the products in which {self.name} user is invested')\n",
    "            elif self.role=='demo':\n",
    "                print('retrieving only public available products')\n",
    "            else:\n",
    "                print(f\"you don't have a valid role. The role should be one of [{', '.join(str(role) for role in ROLES)}]\")\n",
    "\n",
    "\n",
    "prospect = User('Richmond', 'demo')\n",
    "client = User('Smart Guy', 'default')\n",
    "it_guy = User('Maurice Moss', 'admin')\n",
    "manager = User('Jen Barber', 'manager')\n",
    "\n",
    "\n",
    "prospect.get_records()\n",
    "client.get_records()\n",
    "it_guy.get_records()\n",
    "manager.get_records()"
   ]
  },
  {
   "cell_type": "markdown",
   "metadata": {},
   "source": [
    "### Question 2.2\n",
    "Look at the code below and express your opinion on its structure. What are your considerations? If you had to refactor it, which actions would you take? Has this the same issues as the above script?\n",
    "\n",
    "Suppose we want our Portfolio to support in the future different data sources (e.g., Yahoo Finance, a CSV file, an API or a database). The user should choose the source at runtime, but the Portfolio class should not know the details of how to build the correct fetcher. How would you design this?"
   ]
  },
  {
   "cell_type": "code",
   "execution_count": null,
   "metadata": {},
   "outputs": [],
   "source": [
    "import yfinance as yf\n",
    "import pandas as pd\n",
    "\n",
    "class portfolio():\n",
    "    \n",
    "    def __init__(self, products= None, frequency='Monthly'):\n",
    "        self.products = products or  ['0005.HK', '0006.HK', '0066.HK', '0700.HK', '2800.HK']\n",
    "        self.df = pd.DataFrame()\n",
    "        self.frequency = frequency\n",
    "        print('initialized')\n",
    "\n",
    "    \n",
    "    def download_prices(self, benchmarks= None):\n",
    "        benchmarks= benchmarks or []\n",
    "        stock_list = self.products\n",
    "        data = yf.download(stock_list, start=\"2019-06-01\", end=\"2020-02-21\")\n",
    "        print('data fields downloaded:', set(data.columns.get_level_values(0)))\n",
    "        self.df = data.Close\n",
    "        return self.df\n",
    "    \n",
    "    def performances(self):\n",
    "        frequency = self.frequency\n",
    "        try: \n",
    "            if frequency=='Daily':\n",
    "                print('computing Daily perfs')\n",
    "                perf= self.df.pct_change()\n",
    "            elif frequency=='Monthly':\n",
    "                print('computing Monhtly perfs')\n",
    "                perf=  self.df.sort_index().resample(\"M\").apply(lambda x : x.iloc[-1]).pct_change()\n",
    "            elif frequency == 'Weekly':\n",
    "                print('computing Weekly perfs')\n",
    "                perf=  self.df.sort_index().resample('W-MON', label='left', closed='left').apply(lambda x : x.iloc[-1]).pct_change()\n",
    "            else:\n",
    "                raise ValueError('the frequency requested is not available')\n",
    "        except:\n",
    "            print(\"couldn't compute preformances\")\n",
    "        return perf\n",
    "\n",
    "my_portfolio= portfolio(['GOLD', 'SI=F','AMZN','MSFT','AAPL'] )\n",
    "my_portfolio.download_prices()\n",
    "my_portfolio.df.drop('SI=F', axis=1)\n",
    "\n"
   ]
  },
  {
   "cell_type": "markdown",
   "metadata": {},
   "source": [
    "### Question 3\n",
    "Suppose you receive a daily dataset of 100M trade records (CSV files in cloud storage). You need to:\n",
    "\n",
    "- Clean and aggregate them with PySpark (e.g., compute per-ticker daily PnL), and\n",
    "\n",
    "- Expose the aggregated data via a FastAPI service for downstream dashboards.*\n",
    "\n",
    "How would you design and implement this pipeline? What considerations would you keep in mind?"
   ]
  },
  {
   "cell_type": "code",
   "execution_count": null,
   "metadata": {},
   "outputs": [],
   "source": []
  },
  {
   "cell_type": "code",
   "execution_count": null,
   "metadata": {},
   "outputs": [],
   "source": []
  }
 ],
 "metadata": {
  "kernelspec": {
   "display_name": ".venv",
   "language": "python",
   "name": "python3"
  },
  "language_info": {
   "codemirror_mode": {
    "name": "ipython",
    "version": 3
   },
   "file_extension": ".py",
   "mimetype": "text/x-python",
   "name": "python",
   "nbconvert_exporter": "python",
   "pygments_lexer": "ipython3",
   "version": "3.12.3"
  },
  "orig_nbformat": 4
 },
 "nbformat": 4,
 "nbformat_minor": 2
}
