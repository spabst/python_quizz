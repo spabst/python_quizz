{
 "cells": [
  {
   "cell_type": "markdown",
   "metadata": {},
   "source": [
    "\n",
    "### Exercice 1.1\n",
    "The below function is acting weird. "
   ]
  },
  {
   "cell_type": "code",
   "execution_count": null,
   "metadata": {},
   "outputs": [],
   "source": [
    "from dataclasses import dataclass\n",
    "\n",
    "@dataclass\n",
    "class Ticker:\n",
    "    symbol: str\n",
    "    quantity: int\n",
    "    price: float\n",
    "    asset_class: str\n",
    "    \n",
    "interviewer_portfolio= [Ticker('GOLD', 2, 13.56, 'FX'),\n",
    "Ticker('SI=F', 2, 13.56, 'FX'),\n",
    "Ticker('SPY', 2, 3.56, 'ETF'),\n",
    "Ticker('VOO', 2, 25.56, 'ETF'),\n",
    "Ticker('FXAIX', 2, 16.56, 'Fund'),\n",
    "Ticker('MSCI', 0, -23.5, 'Equity'),\n",
    "Ticker('AMZN', 4, -23.5, 'Equity'),\n",
    "Ticker('MSFT', 13, 13.56, 'Equity'),\n",
    "Ticker('AAPL', 2, 13.56, 'Equity'),\n",
    " \n",
    "]"
   ]
  },
  {
   "cell_type": "code",
   "execution_count": 34,
   "metadata": {},
   "outputs": [],
   "source": [
    "import time\n",
    "\n",
    "def add_tickers(account, tickers, portfolio=[], invested_at=time.time()):\n",
    "    portfolio.append(tickers)\n",
    "    time.sleep(3)\n",
    "    print(f\"\"\"---- Added {len(tickers)} to the {account}. ----\n",
    "    The portfolio contains now {len(portfolio)} different tickers.\n",
    "    Invested since {round(time.time()-invested_at, 3)} seconds\\n\"\"\")\n",
    "    return portfolio\n",
    "    "
   ]
  },
  {
   "cell_type": "code",
   "execution_count": 35,
   "metadata": {},
   "outputs": [
    {
     "name": "stdout",
     "output_type": "stream",
     "text": [
      "---- Added 2 to the sebastian. ----\n",
      "    The portfolio contains now 1 different tickers.\n",
      "    Invested since 5.102 seconds\n",
      "\n",
      "---- Added 2 to the Edul's account. ----\n",
      "    The portfolio contains now 1 different tickers.\n",
      "    Invested since 8.116 seconds\n",
      "\n"
     ]
    }
   ],
   "source": [
    "add_tickers(\"Sebastian's account\", tickers=[Ticker('AMZN', 4, -23.5, 'Equity'), Ticker('MSFT', 13, 13.56, 'Equity')])\n",
    "add_tickers(\"Interviewr's account\", tickers=[Ticker('ETH-USD', 10, 1256.56, 'CCC'),\n",
    "Ticker('BTC-USD', 1, 15_000.56, 'CCC ')], portfolio=interviewer_portfolio)\n",
    "\n"
   ]
  },
  {
   "cell_type": "code",
   "execution_count": null,
   "metadata": {},
   "outputs": [],
   "source": []
  },
  {
   "cell_type": "markdown",
   "metadata": {},
   "source": [
    "### Exercice 2.1\n",
    "Look at the code below and express your opinion on its structure. What are your considerations? If you had to refactor it, which actions would you take?"
   ]
  },
  {
   "cell_type": "code",
   "execution_count": 39,
   "metadata": {},
   "outputs": [
    {
     "name": "stdout",
     "output_type": "stream",
     "text": [
      "retrieving only public available tickers\n",
      "retrieving only the positions in which Smart Guy user is invested\n",
      "retrieving all the positions available in the db\n",
      "you don't have a valid role. The role should be one of [demo, default, admin]\n"
     ]
    }
   ],
   "source": [
    "from dataclasses import dataclass\n",
    "\n",
    "ROLES = ['demo', 'default', 'admin']\n",
    "        \n",
    "@dataclass\n",
    "class User:\n",
    "    name: str\n",
    "    role: str\n",
    "    \n",
    "    def get_positions(self):\n",
    "        if self.role=='admin':\n",
    "            print( 'retrieving all the positions available in the db')\n",
    "        else:\n",
    "            if self.role=='default':\n",
    "                print(f'retrieving only the positions in which {self.name} user is invested')\n",
    "            elif self.role=='demo':\n",
    "                print('retrieving only public available tickers')\n",
    "            else:\n",
    "                print(f\"you don't have a valid role. The role should be one of [{', '.join(str(role) for role in ROLES)}]\")\n",
    "\n",
    "\n",
    "prospect = User('Richmond', 'demo')\n",
    "client = User('Smart Guy', 'default')\n",
    "it_guy = User('Maurice Moss', 'admin')\n",
    "manager = User('Jen Barber', 'manager')\n",
    "\n",
    "\n",
    "prospect.get_positions()\n",
    "client.get_positions()\n",
    "it_guy.get_positions()\n",
    "manager.get_positions()"
   ]
  },
  {
   "cell_type": "markdown",
   "metadata": {},
   "source": [
    "### Exercice 2.2\n",
    "Look at the code below and express your opinion on its structure. What are your considerations? If you had to refactor it, which actions would you take?"
   ]
  },
  {
   "cell_type": "code",
   "execution_count": 40,
   "metadata": {},
   "outputs": [],
   "source": [
    "import yfinance as yf\n",
    "import pandas as pd\n",
    "\n",
    "class portfolio():\n",
    "    \n",
    "    def __init__(self, tickers= None):\n",
    "        self.tickers = tickers or  ['0005.HK', '0006.HK', '0066.HK', '0700.HK', '2800.HK']\n",
    "        self.df = pd.DataFrame()\n",
    "        print('initialized')\n",
    "\n",
    "    \n",
    "    def download_prices(self, benchmarks= None):\n",
    "        benchmarks= benchmarks or []\n",
    "        stock_list = self.tickers\n",
    "        data = yf.download(stock_list, start=\"2019-06-01\", end=\"2020-02-21\")\n",
    "        print('data fields downloaded:', set(data.columns.get_level_values(0)))\n",
    "        self.df = data.Close\n",
    "        return self.df\n",
    "    \n",
    "    def performances(self, frequency='Monthly'):\n",
    "        \n",
    "        try: \n",
    "            if frequency=='Daily':\n",
    "                print('computing Daily perfs')\n",
    "                perf= self.df.pct_change()\n",
    "            elif frequency=='Monthly':\n",
    "                print('computing Monhtly perfs')\n",
    "                perf=  self.df.sort_index().resample(\"M\").apply(lambda x : x.iloc[-1]).pct_change()\n",
    "            elif frequency == 'Weekly':\n",
    "                print('computing Weekly perfs')\n",
    "                perf=  self.df.sort_index().resample('W-MON', label='left', closed='left').apply(lambda x : x.iloc[-1]).pct_change()\n",
    "            else:\n",
    "                raise ValueError('the frequency requested is not available')\n",
    "        except:\n",
    "            print(\"couldn't compute preformances\")\n",
    "        return perf\n",
    "\n",
    "my_portfolio= portfolio()"
   ]
  }
 ],
 "metadata": {
  "kernelspec": {
   "display_name": "Python 3.7.7 ('jupyter')",
   "language": "python",
   "name": "python3"
  },
  "language_info": {
   "codemirror_mode": {
    "name": "ipython",
    "version": 3
   },
   "file_extension": ".py",
   "mimetype": "text/x-python",
   "name": "python",
   "nbconvert_exporter": "python",
   "pygments_lexer": "ipython3",
   "version": "3.7.7"
  },
  "orig_nbformat": 4,
  "vscode": {
   "interpreter": {
    "hash": "7fae15ce2eb234774f343c11ca69c50915c2cba389223446d1b049c341319341"
   }
  }
 },
 "nbformat": 4,
 "nbformat_minor": 2
}
