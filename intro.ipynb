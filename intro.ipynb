{
 "cells": [
  {
   "cell_type": "markdown",
   "metadata": {},
   "source": [
    "\n",
    "### Question 1.1\n",
    "The below 'add_ticker' function is acting weird. The number of element contained by the portfolio doesn't match what we would expect and the invested time neither.\n",
    "Please fix the code and explain the reason of the strange behaviour."
   ]
  },
  {
   "cell_type": "code",
   "execution_count": null,
   "metadata": {},
   "outputs": [],
   "source": [
    "\n",
    "import time\n",
    "\n",
    "### modify the function to fix the issues you find\n",
    "def add_tickers(account, tickers, portfolio=[], invested_at=time.time()):\n",
    "    portfolio.extend(tickers)\n",
    "    time.sleep(3)\n",
    "    print(f\"\"\"---- Added {len(tickers)} to the {account}. ----\n",
    "    The portfolio contains now {len(portfolio)} different tickers.\n",
    "    Invested since {round(time.time()-invested_at, 3)} seconds\\n\"\"\")\n",
    "\n",
    "    return portfolio\n",
    "    "
   ]
  },
  {
   "cell_type": "code",
   "execution_count": null,
   "metadata": {},
   "outputs": [],
   "source": [
    "from dataclasses import dataclass\n",
    "# Sample data\n",
    "@dataclass\n",
    "class Ticker:\n",
    "    symbol: str\n",
    "    quantity: int\n",
    "    price: float\n",
    "    asset_class: str\n",
    "    \n",
    "interviewer_portfolio= [\n",
    "    # Ticker('GOLD', 2, 20.91, 'FX'),\n",
    "    # Ticker('SI=F', 2, 13.56, 'FX'),\n",
    "    Ticker('SPY', 2, 5.56, 'ETF'),\n",
    "    Ticker('VOO', -1, 25.21, 'ETF'),\n",
    "    Ticker('MSFT', 13, 79.56, 'Equity'),\n",
    "    Ticker('AAPL', -10, -23.5, 'Equity'),\n",
    "    Ticker('AMZN', 4, -274.5, 'Equity'),\n",
    "]"
   ]
  },
  {
   "cell_type": "code",
   "execution_count": null,
   "metadata": {},
   "outputs": [],
   "source": [
    "pf_1 = add_tickers(\"Demo account\", tickers=[\n",
    "    Ticker('SPY', -25, 5.56, 'ETF'),\n",
    "    Ticker('MSFT', 13, 3.76, 'Equity'),\n",
    "    Ticker('FXAIX', -2, 16.24, 'Fund')\n",
    "    ])\n",
    "\n",
    "pf_2= add_tickers(\"Manager account\", \n",
    "                  tickers=[ Ticker('ZL=F', 34, -23.5, 'Future')\n",
    "                           ])\n",
    "\n",
    "pf_3 = add_tickers(\"Interviewer's account\", tickers=[\n",
    "    Ticker('ETH-USD', 10, 1256.56, 'CCC'),\n",
    "    Ticker('BTC-USD', 1, 15_000.56, 'CCC '),\n",
    "    Ticker('AAPL', 12, 143.43, 'Equity')],\n",
    "\n",
    "    portfolio=interviewer_portfolio)\n",
    "\n",
    "\n",
    "print(pf_2)\n",
    "print(pf_3)"
   ]
  },
  {
   "cell_type": "markdown",
   "metadata": {},
   "source": [
    "### Question 1.2\n",
    "How would you find the *asset classes* present in *portfolio 1* that are not present in the *portfolio 3*? Propose a solution:"
   ]
  },
  {
   "cell_type": "code",
   "execution_count": null,
   "metadata": {},
   "outputs": [],
   "source": [
    "### Write your solution here"
   ]
  },
  {
   "cell_type": "markdown",
   "metadata": {},
   "source": [
    "### Question 1.3:\n",
    "we need to know which positions are short (negative quantity) in our *portfolio 1* for the classes **Equity** and **ETF**. How would you achieve that?"
   ]
  },
  {
   "cell_type": "code",
   "execution_count": null,
   "metadata": {},
   "outputs": [],
   "source": [
    "### Write your solution here"
   ]
  },
  {
   "cell_type": "markdown",
   "metadata": {},
   "source": [
    "### Question 1.4: (optional)\n",
    "For a given portfolio, would you be able to provide a solution to count the number of tickers present on each *asset class* category?"
   ]
  },
  {
   "cell_type": "code",
   "execution_count": null,
   "metadata": {},
   "outputs": [],
   "source": [
    "### Write your solution here"
   ]
  },
  {
   "cell_type": "markdown",
   "metadata": {},
   "source": [
    "## Code Review"
   ]
  },
  {
   "cell_type": "markdown",
   "metadata": {},
   "source": [
    "### Question 2.1\n",
    "Look at the code below and express your opinion on its structure. What are your considerations? If you had to refactor it, which actions would you take?"
   ]
  },
  {
   "cell_type": "code",
   "execution_count": null,
   "metadata": {},
   "outputs": [],
   "source": [
    "from dataclasses import dataclass\n",
    "\n",
    "ROLES = ['demo', 'default', 'admin']\n",
    "        \n",
    "@dataclass\n",
    "class User:\n",
    "    name: str\n",
    "    role: str\n",
    "    \n",
    "    def get_positions(self):\n",
    "        if self.role=='admin':\n",
    "            print( 'retrieving all the positions available in the db')\n",
    "        else:\n",
    "            if self.role=='default':\n",
    "                print(f'retrieving only the positions in which {self.name} user is invested')\n",
    "            elif self.role=='demo':\n",
    "                print('retrieving only public available tickers')\n",
    "            else:\n",
    "                print(f\"you don't have a valid role. The role should be one of [{', '.join(str(role) for role in ROLES)}]\")\n",
    "\n",
    "\n",
    "prospect = User('Richmond', 'demo')\n",
    "client = User('Smart Guy', 'default')\n",
    "it_guy = User('Maurice Moss', 'admin')\n",
    "manager = User('Jen Barber', 'manager')\n",
    "\n",
    "\n",
    "prospect.get_positions()\n",
    "client.get_positions()\n",
    "it_guy.get_positions()\n",
    "manager.get_positions()"
   ]
  },
  {
   "cell_type": "markdown",
   "metadata": {},
   "source": [
    "### Question 2.2\n",
    "Look at the code below and express your opinion on its structure. What are your considerations? If you had to refactor it, which actions would you take? Has this the same issues as the above script?\n",
    "Suppose we want our Portfolio to support different data sources (e.g., Yahoo Finance, a CSV file, or a database). The user should choose the source at runtime, but the Portfolio class should not know the details of how to build the correct fetcher. How would you design this?"
   ]
  },
  {
   "cell_type": "code",
   "execution_count": null,
   "metadata": {},
   "outputs": [],
   "source": [
    "import yfinance as yf\n",
    "import pandas as pd\n",
    "\n",
    "class portfolio():\n",
    "    \n",
    "    def __init__(self, tickers= None, frequency='Monthly'):\n",
    "        self.tickers = tickers or  ['0005.HK', '0006.HK', '0066.HK', '0700.HK', '2800.HK']\n",
    "        self.df = pd.DataFrame()\n",
    "        self.frequency = frequency\n",
    "        print('initialized')\n",
    "\n",
    "    \n",
    "    def download_prices(self, benchmarks= None):\n",
    "        benchmarks= benchmarks or []\n",
    "        stock_list = self.tickers\n",
    "        data = yf.download(stock_list, start=\"2019-06-01\", end=\"2020-02-21\")\n",
    "        print('data fields downloaded:', set(data.columns.get_level_values(0)))\n",
    "        self.df = data.Close\n",
    "        return self.df\n",
    "    \n",
    "    def performances(self):\n",
    "        frequency = self.frequency\n",
    "        try: \n",
    "            if frequency=='Daily':\n",
    "                print('computing Daily perfs')\n",
    "                perf= self.df.pct_change()\n",
    "            elif frequency=='Monthly':\n",
    "                print('computing Monhtly perfs')\n",
    "                perf=  self.df.sort_index().resample(\"M\").apply(lambda x : x.iloc[-1]).pct_change()\n",
    "            elif frequency == 'Weekly':\n",
    "                print('computing Weekly perfs')\n",
    "                perf=  self.df.sort_index().resample('W-MON', label='left', closed='left').apply(lambda x : x.iloc[-1]).pct_change()\n",
    "            else:\n",
    "                raise ValueError('the frequency requested is not available')\n",
    "        except:\n",
    "            print(\"couldn't compute preformances\")\n",
    "        return perf\n",
    "\n",
    "my_portfolio= portfolio(['GOLD', 'SI=F','AMZN','MSFT','AAPL'] )\n",
    "my_portfolio.download_prices()\n",
    "my_portfolio.df.drop('SI=F', axis=1)\n",
    "\n"
   ]
  },
  {
   "cell_type": "markdown",
   "metadata": {},
   "source": [
    "### Question 3\n",
    "Suppose you receive a daily dataset of 100M trade records (CSV files in cloud storage). You need to:\n",
    "\n",
    "- Clean and aggregate them with PySpark (e.g., compute per-ticker daily PnL), and\n",
    "\n",
    "- Expose the aggregated data via a FastAPI service for downstream dashboards.*\n",
    "\n",
    "How would you design and implement this pipeline? What considerations would you keep in mind?"
   ]
  },
  {
   "cell_type": "code",
   "execution_count": null,
   "metadata": {},
   "outputs": [],
   "source": []
  },
  {
   "cell_type": "code",
   "execution_count": null,
   "metadata": {},
   "outputs": [],
   "source": []
  }
 ],
 "metadata": {
  "kernelspec": {
   "display_name": "Python 3.7.7 ('jupyter')",
   "language": "python",
   "name": "python3"
  },
  "language_info": {
   "codemirror_mode": {
    "name": "ipython",
    "version": 3
   },
   "file_extension": ".py",
   "mimetype": "text/x-python",
   "name": "python",
   "nbconvert_exporter": "python",
   "pygments_lexer": "ipython3",
   "version": "3.7.7"
  },
  "orig_nbformat": 4,
  "vscode": {
   "interpreter": {
    "hash": "7fae15ce2eb234774f343c11ca69c50915c2cba389223446d1b049c341319341"
   }
  }
 },
 "nbformat": 4,
 "nbformat_minor": 2
}
